{
 "cells": [
  {
   "cell_type": "code",
   "execution_count": 2,
   "metadata": {},
   "outputs": [],
   "source": [
    "import polars as pl\n",
    "from plotnine import *\n",
    "from plotnine.themes import theme_set, theme_bw\n",
    "theme_set(theme_bw())"
   ]
  },
  {
   "cell_type": "code",
   "execution_count": 3,
   "metadata": {},
   "outputs": [
    {
     "name": "stdout",
     "output_type": "stream",
     "text": [
      "Read 295709 rows\n"
     ]
    }
   ],
   "source": [
    "kingfisher = pl.read_csv(\"../../data/sra/kingfisher_metadata.20220616.csv.gz\", separator='\\t', infer_schema_length=100000, ignore_errors=True)\n",
    "# write ipc\n",
    "print(\"Read {} rows\".format(kingfisher.shape[0]))\n",
    "# kingfisher.write_ipc('../../data/sra/kingfisher_metadata.20220616.ipc')"
   ]
  },
  {
   "cell_type": "code",
   "execution_count": 4,
   "metadata": {},
   "outputs": [],
   "source": [
    "def show_all(df, width=200, max_col_width=True):\n",
    "    '''\n",
    "    Prints an entire polars dataframe in the console or notebook output.\n",
    "    Parameters\n",
    "    ----------\n",
    "    df : pl.DataFrame\n",
    "        The dataframe to be printed.\n",
    "    width : int, optional\n",
    "        The width of the printed dataframe.\n",
    "        Defaults to 200.\n",
    "    max_col_width : bool, optional\n",
    "        Whether to set the maximum column width.\n",
    "        i.e. it will print the full contents of the cells.\n",
    "        Defaults to True.\n",
    "    '''\n",
    "    with  pl.Config()  as  cfg:\n",
    "        cfg.set_tbl_cols(-1)\n",
    "        cfg.set_tbl_rows(-1)\n",
    "        cfg.set_tbl_width_chars(width)\n",
    "        if  max_col_width  or  len(df.columns) ==  1:\n",
    "            cfg.set_fmt_str_lengths(width)\n",
    "        print(df)"
   ]
  },
  {
   "cell_type": "code",
   "execution_count": 5,
   "metadata": {},
   "outputs": [
    {
     "data": {
      "text/html": [
       "<div><style>\n",
       ".dataframe > thead > tr,\n",
       ".dataframe > tbody > tr {\n",
       "  text-align: right;\n",
       "  white-space: pre-wrap;\n",
       "}\n",
       "</style>\n",
       "<small>shape: (3, 3)</small><table border=\"1\" class=\"dataframe\"><thead><tr><th>acc</th><th>bioproject</th><th>organism</th></tr><tr><td>str</td><td>str</td><td>str</td></tr></thead><tbody><tr><td>&quot;SRR13213323&quot;</td><td>&quot;PRJNA506850&quot;</td><td>&quot;manure metagen…</td></tr><tr><td>&quot;SRR1535388&quot;</td><td>&quot;PRJNA256106&quot;</td><td>&quot;human gut meta…</td></tr><tr><td>&quot;SRR1535357&quot;</td><td>&quot;PRJNA256106&quot;</td><td>&quot;human gut meta…</td></tr></tbody></table></div>"
      ],
      "text/plain": [
       "shape: (3, 3)\n",
       "┌─────────────┬─────────────┬──────────────────────┐\n",
       "│ acc         ┆ bioproject  ┆ organism             │\n",
       "│ ---         ┆ ---         ┆ ---                  │\n",
       "│ str         ┆ str         ┆ str                  │\n",
       "╞═════════════╪═════════════╪══════════════════════╡\n",
       "│ SRR13213323 ┆ PRJNA506850 ┆ manure metagenome    │\n",
       "│ SRR1535388  ┆ PRJNA256106 ┆ human gut metagenome │\n",
       "│ SRR1535357  ┆ PRJNA256106 ┆ human gut metagenome │\n",
       "└─────────────┴─────────────┴──────────────────────┘"
      ]
     },
     "execution_count": 5,
     "metadata": {},
     "output_type": "execute_result"
    }
   ],
   "source": [
    "df = pl.read_csv('../../data/sra/acc_organism.csv.gz')\n",
    "df[:3]"
   ]
  },
  {
   "cell_type": "code",
   "execution_count": 6,
   "metadata": {},
   "outputs": [
    {
     "data": {
      "text/html": [
       "<div><style>\n",
       ".dataframe > thead > tr,\n",
       ".dataframe > tbody > tr {\n",
       "  text-align: right;\n",
       "  white-space: pre-wrap;\n",
       "}\n",
       "</style>\n",
       "<small>shape: (3, 6)</small><table border=\"1\" class=\"dataframe\"><thead><tr><th>sample</th><th>bacterial_archaeal_bases</th><th>metagenome_size</th><th>read_fraction</th><th>average_bacterial_archaeal_genome_size</th><th>warning</th></tr><tr><td>str</td><td>i64</td><td>f64</td><td>str</td><td>i64</td><td>str</td></tr></thead><tbody><tr><td>&quot;SRR8634435&quot;</td><td>1178752140</td><td>1.2550e9</td><td>&quot;93.92%&quot;</td><td>3419746</td><td>null</td></tr><tr><td>&quot;SRR8640623&quot;</td><td>1418455610</td><td>3.2740e9</td><td>&quot;43.32%&quot;</td><td>1941733</td><td>null</td></tr><tr><td>&quot;SRR8692214&quot;</td><td>7569181622</td><td>7.7290e9</td><td>&quot;97.93%&quot;</td><td>3353276</td><td>null</td></tr></tbody></table></div>"
      ],
      "text/plain": [
       "shape: (3, 6)\n",
       "┌────────────┬────────────────────┬─────────────────┬───────────────┬────────────────────┬─────────┐\n",
       "│ sample     ┆ bacterial_archaeal ┆ metagenome_size ┆ read_fraction ┆ average_bacterial_ ┆ warning │\n",
       "│ ---        ┆ _bases             ┆ ---             ┆ ---           ┆ archaeal_genom…    ┆ ---     │\n",
       "│ str        ┆ ---                ┆ f64             ┆ str           ┆ ---                ┆ str     │\n",
       "│            ┆ i64                ┆                 ┆               ┆ i64                ┆         │\n",
       "╞════════════╪════════════════════╪═════════════════╪═══════════════╪════════════════════╪═════════╡\n",
       "│ SRR8634435 ┆ 1178752140         ┆ 1.2550e9        ┆ 93.92%        ┆ 3419746            ┆ null    │\n",
       "│ SRR8640623 ┆ 1418455610         ┆ 3.2740e9        ┆ 43.32%        ┆ 1941733            ┆ null    │\n",
       "│ SRR8692214 ┆ 7569181622         ┆ 7.7290e9        ┆ 97.93%        ┆ 3353276            ┆ null    │\n",
       "└────────────┴────────────────────┴─────────────────┴───────────────┴────────────────────┴─────────┘"
      ]
     },
     "execution_count": 6,
     "metadata": {},
     "output_type": "execute_result"
    }
   ],
   "source": [
    "# Gather SMF\n",
    "smf = pl.read_csv('../../data/sra/microbial_fractions.with_ave_genome_size.csv.gz', has_header=True, separator='\\t')\n",
    "smf[:3]"
   ]
  },
  {
   "cell_type": "code",
   "execution_count": 7,
   "metadata": {},
   "outputs": [
    {
     "data": {
      "text/plain": [
       "((251835, 8),\n",
       " shape: (3, 8)\n",
       " ┌────────────┬────────────┬────────────┬────────────┬────────────┬───────────┬───────────┬─────────┐\n",
       " │ acc        ┆ bioproject ┆ organism   ┆ bacterial_ ┆ metagenome ┆ read_frac ┆ average_b ┆ warning │\n",
       " │ ---        ┆ ---        ┆ ---        ┆ archaeal_b ┆ _size      ┆ tion      ┆ acterial_ ┆ ---     │\n",
       " │ str        ┆ str        ┆ str        ┆ ases       ┆ ---        ┆ ---       ┆ archaeal_ ┆ str     │\n",
       " │            ┆            ┆            ┆ ---        ┆ f64        ┆ str       ┆ genom…    ┆         │\n",
       " │            ┆            ┆            ┆ i64        ┆            ┆           ┆ ---       ┆         │\n",
       " │            ┆            ┆            ┆            ┆            ┆           ┆ i64       ┆         │\n",
       " ╞════════════╪════════════╪════════════╪════════════╪════════════╪═══════════╪═══════════╪═════════╡\n",
       " │ SRR1321332 ┆ PRJNA50685 ┆ manure     ┆ 3748652624 ┆ 6.0250e9   ┆ 62.22%    ┆ 3803576   ┆ null    │\n",
       " │ 3          ┆ 0          ┆ metagenome ┆            ┆            ┆           ┆           ┆         │\n",
       " │ SRR1535388 ┆ PRJNA25610 ┆ human gut  ┆ 5158374718 ┆ 6.7970e9   ┆ 75.89%    ┆ 3111785   ┆ null    │\n",
       " │            ┆ 6          ┆ metagenome ┆            ┆            ┆           ┆           ┆         │\n",
       " │ SRR1535357 ┆ PRJNA25610 ┆ human gut  ┆ 5687816608 ┆ 6.5150e9   ┆ 87.30%    ┆ 2408286   ┆ null    │\n",
       " │            ┆ 6          ┆ metagenome ┆            ┆            ┆           ┆           ┆         │\n",
       " └────────────┴────────────┴────────────┴────────────┴────────────┴───────────┴───────────┴─────────┘)"
      ]
     },
     "execution_count": 7,
     "metadata": {},
     "output_type": "execute_result"
    }
   ],
   "source": [
    "m = df.join(smf, left_on='acc', right_on='sample', how='inner')\n",
    "m.shape, m[:3]"
   ]
  },
  {
   "cell_type": "code",
   "execution_count": 10,
   "metadata": {},
   "outputs": [
    {
     "data": {
      "text/plain": [
       "((1654, 8),\n",
       " shape: (3, 8)\n",
       " ┌────────────┬────────────┬────────────┬────────────┬────────────┬───────────┬───────────┬─────────┐\n",
       " │ acc        ┆ bioproject ┆ organism   ┆ bacterial_ ┆ metagenome ┆ read_frac ┆ average_b ┆ warning │\n",
       " │ ---        ┆ ---        ┆ ---        ┆ archaeal_b ┆ _size      ┆ tion      ┆ acterial_ ┆ ---     │\n",
       " │ str        ┆ str        ┆ str        ┆ ases       ┆ ---        ┆ ---       ┆ archaeal_ ┆ str     │\n",
       " │            ┆            ┆            ┆ ---        ┆ f64        ┆ str       ┆ genom…    ┆         │\n",
       " │            ┆            ┆            ┆ i64        ┆            ┆           ┆ ---       ┆         │\n",
       " │            ┆            ┆            ┆            ┆            ┆           ┆ i64       ┆         │\n",
       " ╞════════════╪════════════╪════════════╪════════════╪════════════╪═══════════╪═══════════╪═════════╡\n",
       " │ SRR765683  ┆ PRJNA18598 ┆ food       ┆ 669429574  ┆ 1.8060e9   ┆ 37.07%    ┆ 3132420   ┆ null    │\n",
       " │            ┆ 1          ┆ metagenome ┆            ┆            ┆           ┆           ┆         │\n",
       " │ SRR8451843 ┆ PRJNA20344 ┆ food       ┆ 202843524  ┆ 9.1073e10  ┆ 0.22%     ┆ 2554383   ┆ null    │\n",
       " │            ┆ 5          ┆ metagenome ┆            ┆            ┆           ┆           ┆         │\n",
       " │ SRR1210307 ┆ PRJNA64239 ┆ food       ┆ 490790267  ┆ 1.9950e9   ┆ 24.60%    ┆ 3254146   ┆ null    │\n",
       " │ 2          ┆ 6          ┆ metagenome ┆            ┆            ┆           ┆           ┆         │\n",
       " └────────────┴────────────┴────────────┴────────────┴────────────┴───────────┴───────────┴─────────┘)"
      ]
     },
     "execution_count": 10,
     "metadata": {},
     "output_type": "execute_result"
    }
   ],
   "source": [
    "food = m.filter(pl.col('organism')=='food metagenome')\n",
    "food.shape, food[:3]"
   ]
  },
  {
   "cell_type": "code",
   "execution_count": 11,
   "metadata": {},
   "outputs": [],
   "source": [
    "food2 = food.join(kingfisher, left_on='acc', right_on='run', how='inner')"
   ]
  },
  {
   "cell_type": "code",
   "execution_count": 13,
   "metadata": {},
   "outputs": [
    {
     "data": {
      "text/plain": [
       "((1652, 6025),\n",
       " shape: (3, 6_025)\n",
       " ┌────────────┬────────────┬────────────┬────────────┬───┬─────────┬────────┬───────────┬───────────┐\n",
       " │ acc        ┆ bioproject ┆ organism   ┆ bacterial_ ┆ … ┆ mixture ┆ mating ┆ virus_enr ┆ sample_id │\n",
       " │ ---        ┆ ---        ┆ ---        ┆ archaeal_b ┆   ┆ ---     ┆ type   ┆ ich_appr2 ┆ _Miseq    │\n",
       " │ str        ┆ str        ┆ str        ┆ ases       ┆   ┆ str     ┆ ---    ┆ ---       ┆ ---       │\n",
       " │            ┆            ┆            ┆ ---        ┆   ┆         ┆ str    ┆ str       ┆ str       │\n",
       " │            ┆            ┆            ┆ i64        ┆   ┆         ┆        ┆           ┆           │\n",
       " ╞════════════╪════════════╪════════════╪════════════╪═══╪═════════╪════════╪═══════════╪═══════════╡\n",
       " │ SRR6659450 ┆ PRJNA43239 ┆ food       ┆ 281373960  ┆ … ┆ null    ┆ null   ┆ null      ┆ null      │\n",
       " │            ┆ 0          ┆ metagenome ┆            ┆   ┆         ┆        ┆           ┆           │\n",
       " │ ERR5740243 ┆ PRJEB44083 ┆ food       ┆ 653805201  ┆ … ┆ null    ┆ null   ┆ null      ┆ null      │\n",
       " │            ┆            ┆ metagenome ┆            ┆   ┆         ┆        ┆           ┆           │\n",
       " │ SRR1136251 ┆ PRJNA60895 ┆ food       ┆ 46189743   ┆ … ┆ null    ┆ null   ┆ null      ┆ null      │\n",
       " │ 4          ┆ 4          ┆ metagenome ┆            ┆   ┆         ┆        ┆           ┆           │\n",
       " └────────────┴────────────┴────────────┴────────────┴───┴─────────┴────────┴───────────┴───────────┘)"
      ]
     },
     "execution_count": 13,
     "metadata": {},
     "output_type": "execute_result"
    }
   ],
   "source": [
    "food2.shape, food2.sample(3)"
   ]
  },
  {
   "cell_type": "code",
   "execution_count": 24,
   "metadata": {},
   "outputs": [
    {
     "name": "stdout",
     "output_type": "stream",
     "text": [
      "shape: (56, 2)\n",
      "┌──────────────────────────────────────────────────────────────────────────────────────────────────────────────────────────────────────────────────────────────────────────────────────┬─────┐\n",
      "│ study_title                                                                                                                                                                          ┆ len │\n",
      "│ ---                                                                                                                                                                                  ┆ --- │\n",
      "│ str                                                                                                                                                                                  ┆ u32 │\n",
      "╞══════════════════════════════════════════════════════════════════════════════════════════════════════════════════════════════════════════════════════════════════════════════════════╪═════╡\n",
      "│ Romaine lettuce Raw sequence reads                                                                                                                                                   ┆ 3   │\n",
      "│ Cotija cheese metagenome                                                                                                                                                             ┆ 1   │\n",
      "│ Metagenome of the microbiota  of wild lavender honey                                                                                                                                 ┆ 1   │\n",
      "│ Soy Sauce Metagenome                                                                                                                                                                 ┆ 7   │\n",
      "│ Epoisses cheese virome                                                                                                                                                               ┆ 6   │\n",
      "│ Viral metagenomics of mozarella cheese                                                                                                                                               ┆ 1   │\n",
      "│ food contamination metagenome Metagenome                                                                                                                                             ┆ 36  │\n",
      "│ Food metagenome of blue cheese                                                                                                                                                       ┆ 1   │\n",
      "│ Probiotics Sequencing                                                                                                                                                                ┆ 2   │\n",
      "│ Tracking the dairy microbiota from farm bulk tank milk to skimmed milk powder using 16S rRNA gene amplicon sequenicng and shotgun metagenomic sequencing                             ┆ 13  │\n",
      "│ Functional microbiota diversity of the Alto Adige cows' milk                                                                                                                         ┆ 14  │\n",
      "│ soil metagenome Metagenomic assembly                                                                                                                                                 ┆ 16  │\n",
      "│ Listeria monocytogenes Genome sequencing                                                                                                                                             ┆ 50  │\n",
      "│ Yogurt and dietary supplement metagenomes                                                                                                                                            ┆ 16  │\n",
      "│ The microbial metagenome of eluates obtained from the surface of broccoli heads subjected to different light treatments                                                              ┆ 18  │\n",
      "│ TBD                                                                                                                                                                                  ┆ 2   │\n",
      "│ Thermus thermophilus is responsible for the pink discolouration defect in cheese                                                                                                     ┆ 10  │\n",
      "│ The antithrombotic properties of raw and pasteurised goat milk and cheeses                                                                                                           ┆ 5   │\n",
      "│ Metagenomic and Metatranscriptomic Analysis of the Microbial Community in Swiss-type Maasdam Cheese During Ripening                                                                  ┆ 6   │\n",
      "│ Enrichment dynamics of Listeria monocytogenes and the associated microbiome from naturally contaminated ice cream linked to a listeriosis outbreak                                   ┆ 47  │\n",
      "│ Metagenome from Paralichthys olivaceus                                                                                                                                               ┆ 1   │\n",
      "│ Litopenaeus vannamei Metagenome                                                                                                                                                      ┆ 2   │\n",
      "│ Food metagenome of vacherin cheese                                                                                                                                                   ┆ 1   │\n",
      "│ Wheat flour Raw sequence reads                                                                                                                                                       ┆ 16  │\n",
      "│ food metagenome Metagenomic assembly                                                                                                                                                 ┆ 9   │\n",
      "│ Strain-level metagenomic analysis of the fermented dairy beverage nunu highlights potential food safety risks                                                                        ┆ 20  │\n",
      "│ Comparison of meta-barcoding and shotgun metagenomic analysis of fungi associated with spontaneous wine fermentation                                                                 ┆ 18  │\n",
      "│ Oncom Microbiome                                                                                                                                                                     ┆ 3   │\n",
      "│ Quasi-metagenomics study on the recovery of Shigella from field tomatoes                                                                                                             ┆ 205 │\n",
      "│ Sourdough starter samples Raw sequence reads                                                                                                                                         ┆ 40  │\n",
      "│ ground beef metagenome - raw sequence reads                                                                                                                                          ┆ 29  │\n",
      "│ Metagenomes of produce spiked with E.coli                                                                                                                                            ┆ 3   │\n",
      "│ Evaluation of Enriched Background Microflora of Wheat flour Spiked with E. coli O157 and E. coli O121 through metagenomics                                                           ┆ 16  │\n",
      "│ Unraveling the world of halophilic and halotolerant bacteria in cheese by combining cultural, genomic and metagenomic approaches                                                     ┆ 10  │\n",
      "│ Quasi-metagenomics detection and subtyping of Salmonella enterica from food samples                                                                                                  ┆ 35  │\n",
      "│ fermented foods in Hainan Raw sequence reads                                                                                                                                         ┆ 20  │\n",
      "│ The effect of bacterial fermentation on the antithrombotic properties of polar lipids in ovine milk yogurts                                                                          ┆ 5   │\n",
      "│ Serofluid dish (Jiangshui) Metagenomic Project                                                                                                                                       ┆ 1   │\n",
      "│ METAnnotatorX2: a comprehensive tool for deep and shallow metagenomic dataset  analyses                                                                                              ┆ 1   │\n",
      "│ Major food bacterial pathogens in the united states and around the world, including Salmonella enterica, E. coli, Shigella, Listeria monocytogenes, Campylobacter Jejuni, and Vibrio ┆ 33  │\n",
      "│ parahaemolyticus ge…                                                                                                                                                                 ┆     │\n",
      "│ Evaluation of Enriched Background Microflora of Raw Milk Cheese Spiked with E. coli O157:H7 and E. coli O103 using Next-Generation Sequencing Technology                             ┆ 36  │\n",
      "│ What is the Burden of Antimicrobial Resistance Genes in Selected Ready-to-Eat Foods?                                                                                                 ┆ 853 │\n",
      "│ Sour dough microbial diversity Raw sequence reads                                                                                                                                    ┆ 2   │\n",
      "│ Sequencing DNA from lupin seeds and lupin-containing cookies                                                                                                                         ┆ 3   │\n",
      "│ Metagenome of the microbiota of lavandin honey                                                                                                                                       ┆ 1   │\n",
      "│ Grape berry microbiota cultivar Corvina withering process Metagenomic assembly                                                                                                       ┆ 2   │\n",
      "│ fangzhiwei                                                                                                                                                                           ┆ 2   │\n",
      "│ STEC-spiked spinach Metagenome                                                                                                                                                       ┆ 16  │\n",
      "│ food metagenome strain:FC13678 Raw sequence reads                                                                                                                                    ┆ 1   │\n",
      "│ 16S rRNA marker gene survey on spinach                                                                                                                                               ┆ 2   │\n",
      "│ Metagenome of the microbiota of Chestnut honey from a  bio-diversified environment                                                                                                   ┆ 1   │\n",
      "│ food metagenome strain:FC13628 Raw sequence reads                                                                                                                                    ┆ 1   │\n",
      "│ Analysis of Microbial Diversity of Kombucha                                                                                                                                          ┆ 1   │\n",
      "│ Metagenomic studies of microbiota in grass carp flesh                                                                                                                                ┆ 3   │\n",
      "│ Viral metagenomics of US store bought beef, pork, chicken                                                                                                                            ┆ 1   │\n",
      "│ metagenomic sequencing in pork production chain                                                                                                                                      ┆ 4   │\n",
      "└──────────────────────────────────────────────────────────────────────────────────────────────────────────────────────────────────────────────────────────────────────────────────────┴─────┘\n"
     ]
    }
   ],
   "source": [
    "show_all(food2.group_by('study_title').len())"
   ]
  },
  {
   "cell_type": "code",
   "execution_count": 31,
   "metadata": {},
   "outputs": [
    {
     "data": {
      "text/html": [
       "<div><style>\n",
       ".dataframe > thead > tr,\n",
       ".dataframe > tbody > tr {\n",
       "  text-align: right;\n",
       "  white-space: pre-wrap;\n",
       "}\n",
       "</style>\n",
       "<small>shape: (7, 2)</small><table border=\"1\" class=\"dataframe\"><thead><tr><th>acc</th><th>read_fraction</th></tr><tr><td>str</td><td>str</td></tr></thead><tbody><tr><td>&quot;SRR648391&quot;</td><td>&quot;24.13%&quot;</td></tr><tr><td>&quot;SRR765682&quot;</td><td>&quot;55.80%&quot;</td></tr><tr><td>&quot;SRR765683&quot;</td><td>&quot;37.07%&quot;</td></tr><tr><td>&quot;SRR765684&quot;</td><td>&quot;43.46%&quot;</td></tr><tr><td>&quot;SRR765685&quot;</td><td>&quot;30.70%&quot;</td></tr><tr><td>&quot;SRR765686&quot;</td><td>&quot;35.87%&quot;</td></tr><tr><td>&quot;SRR765687&quot;</td><td>&quot;19.84%&quot;</td></tr></tbody></table></div>"
      ],
      "text/plain": [
       "shape: (7, 2)\n",
       "┌───────────┬───────────────┐\n",
       "│ acc       ┆ read_fraction │\n",
       "│ ---       ┆ ---           │\n",
       "│ str       ┆ str           │\n",
       "╞═══════════╪═══════════════╡\n",
       "│ SRR648391 ┆ 24.13%        │\n",
       "│ SRR765682 ┆ 55.80%        │\n",
       "│ SRR765683 ┆ 37.07%        │\n",
       "│ SRR765684 ┆ 43.46%        │\n",
       "│ SRR765685 ┆ 30.70%        │\n",
       "│ SRR765686 ┆ 35.87%        │\n",
       "│ SRR765687 ┆ 19.84%        │\n",
       "└───────────┴───────────────┘"
      ]
     },
     "execution_count": 31,
     "metadata": {},
     "output_type": "execute_result"
    }
   ],
   "source": [
    "# Soy Sauce \n",
    "food2.filter(pl.col('study_title').str.contains('Soy')).select('acc','read_fraction').sample(7)"
   ]
  }
 ],
 "metadata": {
  "kernelspec": {
   "display_name": "mybase",
   "language": "python",
   "name": "python3"
  },
  "language_info": {
   "codemirror_mode": {
    "name": "ipython",
    "version": 3
   },
   "file_extension": ".py",
   "mimetype": "text/x-python",
   "name": "python",
   "nbconvert_exporter": "python",
   "pygments_lexer": "ipython3",
   "version": "3.11.0"
  }
 },
 "nbformat": 4,
 "nbformat_minor": 2
}
