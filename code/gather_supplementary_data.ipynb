{
 "cells": [
  {
   "cell_type": "code",
   "execution_count": 18,
   "metadata": {},
   "outputs": [],
   "source": [
    "import polars as pl"
   ]
  },
  {
   "cell_type": "code",
   "execution_count": 19,
   "metadata": {},
   "outputs": [
    {
     "data": {
      "text/plain": [
       "(shape: (3, 6)\n",
       " ┌────────────┬────────────────────┬─────────────────┬───────────────┬────────────────────┬─────────┐\n",
       " │ sample     ┆ bacterial_archaeal ┆ metagenome_size ┆ read_fraction ┆ average_bacterial_ ┆ warning │\n",
       " │ ---        ┆ _bases             ┆ ---             ┆ ---           ┆ archaeal_genom…    ┆ ---     │\n",
       " │ str        ┆ ---                ┆ f64             ┆ str           ┆ ---                ┆ str     │\n",
       " │            ┆ i64                ┆                 ┆               ┆ i64                ┆         │\n",
       " ╞════════════╪════════════════════╪═════════════════╪═══════════════╪════════════════════╪═════════╡\n",
       " │ SRR8634435 ┆ 1178752140         ┆ 1.2550e9        ┆ 93.92%        ┆ 3419746            ┆ null    │\n",
       " │ SRR8640623 ┆ 1418455610         ┆ 3.2740e9        ┆ 43.32%        ┆ 1941733            ┆ null    │\n",
       " │ SRR8692214 ┆ 7569181622         ┆ 7.7290e9        ┆ 97.93%        ┆ 3353276            ┆ null    │\n",
       " └────────────┴────────────────────┴─────────────────┴───────────────┴────────────────────┴─────────┘,\n",
       " (251919, 6))"
      ]
     },
     "execution_count": 19,
     "metadata": {},
     "output_type": "execute_result"
    }
   ],
   "source": [
    "df = pl.read_csv('../data/sra/microbial_fractions.with_ave_genome_size.csv.gz', separator='\\t')\n",
    "df[:3], df.shape"
   ]
  },
  {
   "cell_type": "code",
   "execution_count": 20,
   "metadata": {},
   "outputs": [
    {
     "data": {
      "text/html": [
       "<div><style>\n",
       ".dataframe > thead > tr,\n",
       ".dataframe > tbody > tr {\n",
       "  text-align: right;\n",
       "  white-space: pre-wrap;\n",
       "}\n",
       "</style>\n",
       "<small>shape: (3, 7)</small><table border=\"1\" class=\"dataframe\"><thead><tr><th>sample</th><th>bacterial_archaeal_bases</th><th>metagenome_size</th><th>read_fraction</th><th>average_bacterial_archaeal_genome_size</th><th>warning</th><th>microbial_fraction (%)</th></tr><tr><td>str</td><td>i64</td><td>f64</td><td>str</td><td>i64</td><td>str</td><td>f32</td></tr></thead><tbody><tr><td>&quot;SRR8634435&quot;</td><td>1178752140</td><td>1.2550e9</td><td>&quot;93.92%&quot;</td><td>3419746</td><td>null</td><td>93.919998</td></tr><tr><td>&quot;SRR8640623&quot;</td><td>1418455610</td><td>3.2740e9</td><td>&quot;43.32%&quot;</td><td>1941733</td><td>null</td><td>43.32</td></tr><tr><td>&quot;SRR8692214&quot;</td><td>7569181622</td><td>7.7290e9</td><td>&quot;97.93%&quot;</td><td>3353276</td><td>null</td><td>97.93</td></tr></tbody></table></div>"
      ],
      "text/plain": [
       "shape: (3, 7)\n",
       "┌────────────┬───────────────┬──────────────┬──────────────┬──────────────┬─────────┬──────────────┐\n",
       "│ sample     ┆ bacterial_arc ┆ metagenome_s ┆ read_fractio ┆ average_bact ┆ warning ┆ microbial_fr │\n",
       "│ ---        ┆ haeal_bases   ┆ ize          ┆ n            ┆ erial_archae ┆ ---     ┆ action (%)   │\n",
       "│ str        ┆ ---           ┆ ---          ┆ ---          ┆ al_genom…    ┆ str     ┆ ---          │\n",
       "│            ┆ i64           ┆ f64          ┆ str          ┆ ---          ┆         ┆ f32          │\n",
       "│            ┆               ┆              ┆              ┆ i64          ┆         ┆              │\n",
       "╞════════════╪═══════════════╪══════════════╪══════════════╪══════════════╪═════════╪══════════════╡\n",
       "│ SRR8634435 ┆ 1178752140    ┆ 1.2550e9     ┆ 93.92%       ┆ 3419746      ┆ null    ┆ 93.919998    │\n",
       "│ SRR8640623 ┆ 1418455610    ┆ 3.2740e9     ┆ 43.32%       ┆ 1941733      ┆ null    ┆ 43.32        │\n",
       "│ SRR8692214 ┆ 7569181622    ┆ 7.7290e9     ┆ 97.93%       ┆ 3353276      ┆ null    ┆ 97.93        │\n",
       "└────────────┴───────────────┴──────────────┴──────────────┴──────────────┴─────────┴──────────────┘"
      ]
     },
     "execution_count": 20,
     "metadata": {},
     "output_type": "execute_result"
    }
   ],
   "source": [
    "df = df.with_columns(pl.col('read_fraction').str.replace('%','').cast(pl.Float32).alias('microbial_fraction (%)'))\n",
    "df[:3]"
   ]
  },
  {
   "cell_type": "code",
   "execution_count": 21,
   "metadata": {},
   "outputs": [
    {
     "name": "stdout",
     "output_type": "stream",
     "text": [
      "Found 136284 SRA runs that pass the metadata filtering out of 251919 original\n"
     ]
    }
   ],
   "source": [
    "# Filter rows based on NCBI method metadata\n",
    "# ncbi_method <- read_delim(\"data/sra/NCBI_method_taxonomy_processed.csv.gz\")\n",
    "#   filter(library_strategy == \"WGS\" & library_selection == \"RANDOM\") %>%\n",
    "#   filter(gbp > 0.5) \n",
    "extra_metadata = pl.read_csv('../data/sra/extra_metadata_short.tsv.gz', separator='\\t', null_values=['NA','null'])\n",
    "# print(extra_metadata.shape)\n",
    "# show_all(extra_metadata[:3])\n",
    "extra_metadata = extra_metadata.filter(pl.col('library_strategy') == 'WGS').filter(pl.col('library_selection') == 'RANDOM').filter(pl.col('Gbp') > 0.5)\n",
    "# print(\"Found {} SRA runs that pass the metadata filtering\".format(extra_metadata.shape[0]))\n",
    "original_smf_count = df.shape[0]\n",
    "df = df.join(extra_metadata, left_on='sample', right_on='run', how='inner')\n",
    "print(\"Found {} SRA runs that pass the metadata filtering out of {} original\".format(df.shape[0], original_smf_count))"
   ]
  },
  {
   "cell_type": "code",
   "execution_count": 22,
   "metadata": {},
   "outputs": [],
   "source": [
    "## Commented out to avoid overwriting the file (and now deprecated anyway)\n",
    "# df.select('sample','bacterial_archaeal_bases','metagenome_size','microbial_fraction (%)','average_bacterial_archaeal_genome_size','warning').write_csv('../data/Supplementary_Data_1.csv')"
   ]
  },
  {
   "cell_type": "markdown",
   "metadata": {},
   "source": [
    "# How many had warnings?"
   ]
  },
  {
   "cell_type": "code",
   "execution_count": 23,
   "metadata": {},
   "outputs": [
    {
     "data": {
      "text/plain": [
       "0.002839658360482522"
      ]
     },
     "execution_count": 23,
     "metadata": {},
     "output_type": "execute_result"
    }
   ],
   "source": [
    "len(df.filter(pl.col('warning').is_not_null())) / len(df)"
   ]
  },
  {
   "cell_type": "markdown",
   "metadata": {},
   "source": [
    "# Gather marine info"
   ]
  },
  {
   "cell_type": "code",
   "execution_count": 24,
   "metadata": {},
   "outputs": [
    {
     "data": {
      "text/plain": [
       "((1306, 17),\n",
       " shape: (3, 17)\n",
       " ┌───────────┬────────────┬────────────┬────────────┬───┬───────────┬───────────┬───────────┬───────┐\n",
       " │ sample    ┆ bacterial_ ┆ metagenome ┆ read_fract ┆ … ┆ lower_bou ┆ upper_bou ┆ size_rang ┆ smf   │\n",
       " │ ---       ┆ archaeal_b ┆ _size      ┆ ion        ┆   ┆ nd        ┆ nd        ┆ e         ┆ ---   │\n",
       " │ str       ┆ ases       ┆ ---        ┆ ---        ┆   ┆ ---       ┆ ---       ┆ ---       ┆ f64   │\n",
       " │           ┆ ---        ┆ f64        ┆ str        ┆   ┆ f64       ┆ f64       ┆ str       ┆       │\n",
       " │           ┆ i64        ┆            ┆            ┆   ┆           ┆           ┆           ┆       │\n",
       " ╞═══════════╪════════════╪════════════╪════════════╪═══╪═══════════╪═══════════╪═══════════╪═══════╡\n",
       " │ ERR598976 ┆ 2804781680 ┆ 3.9094e10  ┆ 71.74%     ┆ … ┆ 0.22      ┆ 3.0       ┆ 0.22-3.0  ┆ 71.74 │\n",
       " │           ┆ 0          ┆            ┆            ┆   ┆           ┆           ┆           ┆       │\n",
       " │ ERR599295 ┆ 713946683  ┆ 2.9695e10  ┆ 2.40%      ┆ … ┆ 5.0       ┆ 20.0      ┆ 5.0-20.0  ┆ 2.4   │\n",
       " │ ERR599069 ┆ 7986370080 ┆ 9.4010e9   ┆ 84.95%     ┆ … ┆ 0.22      ┆ 3.0       ┆ 0.22-3.0  ┆ 84.95 │\n",
       " └───────────┴────────────┴────────────┴────────────┴───┴───────────┴───────────┴───────────┴───────┘)"
      ]
     },
     "execution_count": 24,
     "metadata": {},
     "output_type": "execute_result"
    }
   ],
   "source": [
    "marine_filter_sizes = pl.read_csv('marine/marine_smf_and_filter_sizes.csv')\n",
    "marine_filter_sizes.shape, marine_filter_sizes[:3]"
   ]
  },
  {
   "cell_type": "code",
   "execution_count": 25,
   "metadata": {},
   "outputs": [],
   "source": [
    "df = df.join(\n",
    "marine_filter_sizes.select(\n",
    "    'sample','size_range'\n",
    ").rename({'size_range': 'marine sample filter size range (um)'}), on='sample', how='left')"
   ]
  },
  {
   "cell_type": "code",
   "execution_count": 30,
   "metadata": {},
   "outputs": [
    {
     "data": {
      "text/html": [
       "<div><style>\n",
       ".dataframe > thead > tr,\n",
       ".dataframe > tbody > tr {\n",
       "  text-align: right;\n",
       "  white-space: pre-wrap;\n",
       "}\n",
       "</style>\n",
       "<small>shape: (3, 16)</small><table border=\"1\" class=\"dataframe\"><thead><tr><th>sample</th><th>bacterial_archaeal_bases</th><th>metagenome_size</th><th>read_fraction</th><th>average_bacterial_archaeal_genome_size</th><th>warning</th><th>microbial_fraction (%)</th><th>bioproject</th><th>Gbp</th><th>library_strategy</th><th>library_selection</th><th>model</th><th>sample_name</th><th>taxon_name</th><th>marine sample filter size range (um)</th><th>Fungi to Bacteria Ratio (soil)</th></tr><tr><td>str</td><td>i64</td><td>f64</td><td>str</td><td>i64</td><td>str</td><td>f32</td><td>str</td><td>f64</td><td>str</td><td>str</td><td>str</td><td>str</td><td>str</td><td>str</td><td>f64</td></tr></thead><tbody><tr><td>&quot;ERR598976&quot;</td><td>28047816800</td><td>3.9094e10</td><td>&quot;71.74%&quot;</td><td>1608800</td><td>null</td><td>71.739998</td><td>&quot;PRJEB1787&quot;</td><td>39.095</td><td>&quot;WGS&quot;</td><td>&quot;RANDOM&quot;</td><td>&quot;Illumina HiSeq…</td><td>&quot;TARA_B10000156…</td><td>&quot;marine metagen…</td><td>&quot;0.22-3.0&quot;</td><td>null</td></tr><tr><td>&quot;ERR599295&quot;</td><td>713946683</td><td>2.9695e10</td><td>&quot;2.40%&quot;</td><td>3766932</td><td>null</td><td>2.4</td><td>&quot;PRJEB4352&quot;</td><td>29.696</td><td>&quot;WGS&quot;</td><td>&quot;RANDOM&quot;</td><td>&quot;Illumina HiSeq…</td><td>&quot;TARA_N00000074…</td><td>&quot;marine metagen…</td><td>&quot;5.0-20.0&quot;</td><td>null</td></tr><tr><td>&quot;ERR599069&quot;</td><td>7986370080</td><td>9.4010e9</td><td>&quot;84.95%&quot;</td><td>1677284</td><td>null</td><td>84.949997</td><td>&quot;PRJEB1787&quot;</td><td>9.402</td><td>&quot;WGS&quot;</td><td>&quot;RANDOM&quot;</td><td>&quot;Illumina HiSeq…</td><td>&quot;TARA_B10000067…</td><td>&quot;marine metagen…</td><td>&quot;0.22-3.0&quot;</td><td>null</td></tr></tbody></table></div>"
      ],
      "text/plain": [
       "shape: (3, 16)\n",
       "┌───────────┬───────────┬───────────┬───────────┬───┬───────────┬───────────┬───────────┬──────────┐\n",
       "│ sample    ┆ bacterial ┆ metagenom ┆ read_frac ┆ … ┆ sample_na ┆ taxon_nam ┆ marine    ┆ Fungi to │\n",
       "│ ---       ┆ _archaeal ┆ e_size    ┆ tion      ┆   ┆ me        ┆ e         ┆ sample    ┆ Bacteria │\n",
       "│ str       ┆ _bases    ┆ ---       ┆ ---       ┆   ┆ ---       ┆ ---       ┆ filter    ┆ Ratio    │\n",
       "│           ┆ ---       ┆ f64       ┆ str       ┆   ┆ str       ┆ str       ┆ size      ┆ (soil)   │\n",
       "│           ┆ i64       ┆           ┆           ┆   ┆           ┆           ┆ range …   ┆ ---      │\n",
       "│           ┆           ┆           ┆           ┆   ┆           ┆           ┆ ---       ┆ f64      │\n",
       "│           ┆           ┆           ┆           ┆   ┆           ┆           ┆ str       ┆          │\n",
       "╞═══════════╪═══════════╪═══════════╪═══════════╪═══╪═══════════╪═══════════╪═══════════╪══════════╡\n",
       "│ ERR598976 ┆ 280478168 ┆ 3.9094e10 ┆ 71.74%    ┆ … ┆ TARA_B100 ┆ marine    ┆ 0.22-3.0  ┆ null     │\n",
       "│           ┆ 00        ┆           ┆           ┆   ┆ 001564    ┆ metagenom ┆           ┆          │\n",
       "│           ┆           ┆           ┆           ┆   ┆           ┆ e         ┆           ┆          │\n",
       "│ ERR599295 ┆ 713946683 ┆ 2.9695e10 ┆ 2.40%     ┆ … ┆ TARA_N000 ┆ marine    ┆ 5.0-20.0  ┆ null     │\n",
       "│           ┆           ┆           ┆           ┆   ┆ 000742    ┆ metagenom ┆           ┆          │\n",
       "│           ┆           ┆           ┆           ┆   ┆           ┆ e         ┆           ┆          │\n",
       "│ ERR599069 ┆ 798637008 ┆ 9.4010e9  ┆ 84.95%    ┆ … ┆ TARA_B100 ┆ marine    ┆ 0.22-3.0  ┆ null     │\n",
       "│           ┆ 0         ┆           ┆           ┆   ┆ 000674    ┆ metagenom ┆           ┆          │\n",
       "│           ┆           ┆           ┆           ┆   ┆           ┆ e         ┆           ┆          │\n",
       "└───────────┴───────────┴───────────┴───────────┴───┴───────────┴───────────┴───────────┴──────────┘"
      ]
     },
     "execution_count": 30,
     "metadata": {},
     "output_type": "execute_result"
    }
   ],
   "source": [
    "df.filter(pl.col('sample').is_in(marine_filter_sizes.select('sample')))[:3]"
   ]
  },
  {
   "cell_type": "markdown",
   "metadata": {},
   "source": [
    "# Gather soil info"
   ]
  },
  {
   "cell_type": "code",
   "execution_count": 27,
   "metadata": {},
   "outputs": [
    {
     "data": {
      "text/plain": [
       "((3960, 29),\n",
       " shape: (3, 29)\n",
       " ┌───────────┬───────────┬───────────┬───────────┬───┬───────────┬───────────┬──────────┬───────────┐\n",
       " │ acc       ┆ bioprojec ┆ organism  ┆ bacterial ┆ … ┆ host_or_n ┆ host_or_n ┆ tropical ┆ Fungi to  │\n",
       " │ ---       ┆ t         ┆ ---       ┆ _archaeal ┆   ┆ ot_record ┆ ot_mature ┆ ---      ┆ Bacteria  │\n",
       " │ str       ┆ ---       ┆ str       ┆ _bases    ┆   ┆ ed        ┆ ---       ┆ bool     ┆ Ratio     │\n",
       " │           ┆ str       ┆           ┆ ---       ┆   ┆ ---       ┆ str       ┆          ┆ ---       │\n",
       " │           ┆           ┆           ┆ i64       ┆   ┆ str       ┆           ┆          ┆ f64       │\n",
       " ╞═══════════╪═══════════╪═══════════╪═══════════╪═══╪═══════════╪═══════════╪══════════╪═══════════╡\n",
       " │ ERR174226 ┆ PRJEB8420 ┆ soil meta ┆ 914834837 ┆ … ┆ ecologica ┆ ecologica ┆ false    ┆ 0.059587  │\n",
       " │ 3         ┆           ┆ genome    ┆ 9         ┆   ┆ l         ┆ l         ┆          ┆           │\n",
       " │ SRR747173 ┆ PRJNA4645 ┆ soil meta ┆ 491501756 ┆ … ┆ ecologica ┆ ecologica ┆ true     ┆ 0.070717  │\n",
       " │ 4         ┆ 00        ┆ genome    ┆ 8         ┆   ┆ l         ┆ l         ┆          ┆           │\n",
       " │ SRR620180 ┆ PRJNA3664 ┆ soil meta ┆ 174318965 ┆ … ┆ ecologica ┆ ecologica ┆ false    ┆ 0.068742  │\n",
       " │ 6         ┆ 04        ┆ genome    ┆ 3         ┆   ┆ l         ┆ l         ┆          ┆           │\n",
       " └───────────┴───────────┴───────────┴───────────┴───┴───────────┴───────────┴──────────┴───────────┘)"
      ]
     },
     "execution_count": 27,
     "metadata": {},
     "output_type": "execute_result"
    }
   ],
   "source": [
    "soil_fungal_ratios = pl.read_csv('soil/soil_data_for_supplementary.csv')\n",
    "soil_fungal_ratios.shape, soil_fungal_ratios[:3]"
   ]
  },
  {
   "cell_type": "code",
   "execution_count": 28,
   "metadata": {},
   "outputs": [],
   "source": [
    "df = df.join(\n",
    "soil_fungal_ratios.select(\n",
    "    'acc','Fungi to Bacteria Ratio'\n",
    ").rename({'acc': 'sample', 'Fungi to Bacteria Ratio': 'Fungi to Bacteria Ratio (soil)'}), on='sample', how='left')"
   ]
  },
  {
   "cell_type": "code",
   "execution_count": 31,
   "metadata": {},
   "outputs": [
    {
     "data": {
      "text/html": [
       "<div><style>\n",
       ".dataframe > thead > tr,\n",
       ".dataframe > tbody > tr {\n",
       "  text-align: right;\n",
       "  white-space: pre-wrap;\n",
       "}\n",
       "</style>\n",
       "<small>shape: (3, 16)</small><table border=\"1\" class=\"dataframe\"><thead><tr><th>sample</th><th>bacterial_archaeal_bases</th><th>metagenome_size</th><th>read_fraction</th><th>average_bacterial_archaeal_genome_size</th><th>warning</th><th>microbial_fraction (%)</th><th>bioproject</th><th>Gbp</th><th>library_strategy</th><th>library_selection</th><th>model</th><th>sample_name</th><th>taxon_name</th><th>marine sample filter size range (um)</th><th>Fungi to Bacteria Ratio (soil)</th></tr><tr><td>str</td><td>i64</td><td>f64</td><td>str</td><td>i64</td><td>str</td><td>f32</td><td>str</td><td>f64</td><td>str</td><td>str</td><td>str</td><td>str</td><td>str</td><td>str</td><td>f64</td></tr></thead><tbody><tr><td>&quot;ERR2239870&quot;</td><td>635913170</td><td>9.42e8</td><td>&quot;67.51%&quot;</td><td>4221970</td><td>null</td><td>67.510002</td><td>&quot;PRJEB24343&quot;</td><td>0.943</td><td>&quot;WGS&quot;</td><td>&quot;RANDOM&quot;</td><td>&quot;Illumina HiSeq…</td><td>&quot;LEP-SZ-8-T&quot;</td><td>&quot;soil metagenom…</td><td>null</td><td>0.057234</td></tr><tr><td>&quot;ERR2233332&quot;</td><td>1526053390</td><td>2.2930e9</td><td>&quot;66.55%&quot;</td><td>4746224</td><td>null</td><td>66.550003</td><td>&quot;PRJEB24179&quot;</td><td>2.293</td><td>&quot;WGS&quot;</td><td>&quot;RANDOM&quot;</td><td>&quot;Illumina HiSeq…</td><td>&quot;CJ006&quot;</td><td>&quot;soil metagenom…</td><td>null</td><td>0.059775</td></tr><tr><td>&quot;ERR2239869&quot;</td><td>631240409</td><td>9.71e8</td><td>&quot;65.01%&quot;</td><td>4347985</td><td>null</td><td>65.010002</td><td>&quot;PRJEB24343&quot;</td><td>0.971</td><td>&quot;WGS&quot;</td><td>&quot;RANDOM&quot;</td><td>&quot;Illumina HiSeq…</td><td>&quot;LEP-SZ-8-B&quot;</td><td>&quot;soil metagenom…</td><td>null</td><td>0.064008</td></tr></tbody></table></div>"
      ],
      "text/plain": [
       "shape: (3, 16)\n",
       "┌───────────┬───────────┬───────────┬───────────┬───┬───────────┬───────────┬───────────┬──────────┐\n",
       "│ sample    ┆ bacterial ┆ metagenom ┆ read_frac ┆ … ┆ sample_na ┆ taxon_nam ┆ marine    ┆ Fungi to │\n",
       "│ ---       ┆ _archaeal ┆ e_size    ┆ tion      ┆   ┆ me        ┆ e         ┆ sample    ┆ Bacteria │\n",
       "│ str       ┆ _bases    ┆ ---       ┆ ---       ┆   ┆ ---       ┆ ---       ┆ filter    ┆ Ratio    │\n",
       "│           ┆ ---       ┆ f64       ┆ str       ┆   ┆ str       ┆ str       ┆ size      ┆ (soil)   │\n",
       "│           ┆ i64       ┆           ┆           ┆   ┆           ┆           ┆ range …   ┆ ---      │\n",
       "│           ┆           ┆           ┆           ┆   ┆           ┆           ┆ ---       ┆ f64      │\n",
       "│           ┆           ┆           ┆           ┆   ┆           ┆           ┆ str       ┆          │\n",
       "╞═══════════╪═══════════╪═══════════╪═══════════╪═══╪═══════════╪═══════════╪═══════════╪══════════╡\n",
       "│ ERR223987 ┆ 635913170 ┆ 9.42e8    ┆ 67.51%    ┆ … ┆ LEP-SZ-8- ┆ soil meta ┆ null      ┆ 0.057234 │\n",
       "│ 0         ┆           ┆           ┆           ┆   ┆ T         ┆ genome    ┆           ┆          │\n",
       "│ ERR223333 ┆ 152605339 ┆ 2.2930e9  ┆ 66.55%    ┆ … ┆ CJ006     ┆ soil meta ┆ null      ┆ 0.059775 │\n",
       "│ 2         ┆ 0         ┆           ┆           ┆   ┆           ┆ genome    ┆           ┆          │\n",
       "│ ERR223986 ┆ 631240409 ┆ 9.71e8    ┆ 65.01%    ┆ … ┆ LEP-SZ-8- ┆ soil meta ┆ null      ┆ 0.064008 │\n",
       "│ 9         ┆           ┆           ┆           ┆   ┆ B         ┆ genome    ┆           ┆          │\n",
       "└───────────┴───────────┴───────────┴───────────┴───┴───────────┴───────────┴───────────┴──────────┘"
      ]
     },
     "execution_count": 31,
     "metadata": {},
     "output_type": "execute_result"
    }
   ],
   "source": [
    "df.filter(pl.col('sample').is_in(soil_fungal_ratios.select('acc')))[:3]"
   ]
  },
  {
   "cell_type": "code",
   "execution_count": 35,
   "metadata": {},
   "outputs": [],
   "source": [
    "import gzip\n",
    "with gzip.open('supplementary_data_from_python.csv.gz','wb') as f:\n",
    "    df.write_csv(f)"
   ]
  }
 ],
 "metadata": {
  "kernelspec": {
   "display_name": "mybase",
   "language": "python",
   "name": "python3"
  },
  "language_info": {
   "codemirror_mode": {
    "name": "ipython",
    "version": 3
   },
   "file_extension": ".py",
   "mimetype": "text/x-python",
   "name": "python",
   "nbconvert_exporter": "python",
   "pygments_lexer": "ipython3",
   "version": "3.11.0"
  }
 },
 "nbformat": 4,
 "nbformat_minor": 2
}
