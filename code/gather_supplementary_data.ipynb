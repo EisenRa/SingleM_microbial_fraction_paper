{
 "cells": [
  {
   "cell_type": "code",
   "execution_count": 1,
   "metadata": {},
   "outputs": [],
   "source": [
    "import polars as pl"
   ]
  },
  {
   "cell_type": "code",
   "execution_count": 2,
   "metadata": {},
   "outputs": [
    {
     "data": {
      "text/plain": [
       "(shape: (3, 6)\n",
       " ┌────────────┬────────────────────┬─────────────────┬───────────────┬────────────────────┬─────────┐\n",
       " │ sample     ┆ bacterial_archaeal ┆ metagenome_size ┆ read_fraction ┆ average_bacterial_ ┆ warning │\n",
       " │ ---        ┆ _bases             ┆ ---             ┆ ---           ┆ archaeal_genom…    ┆ ---     │\n",
       " │ str        ┆ ---                ┆ f64             ┆ str           ┆ ---                ┆ str     │\n",
       " │            ┆ i64                ┆                 ┆               ┆ i64                ┆         │\n",
       " ╞════════════╪════════════════════╪═════════════════╪═══════════════╪════════════════════╪═════════╡\n",
       " │ SRR8634435 ┆ 1178752140         ┆ 1.2550e9        ┆ 93.92%        ┆ 3419746            ┆ null    │\n",
       " │ SRR8640623 ┆ 1418455610         ┆ 3.2740e9        ┆ 43.32%        ┆ 1941733            ┆ null    │\n",
       " │ SRR8692214 ┆ 7569181622         ┆ 7.7290e9        ┆ 97.93%        ┆ 3353276            ┆ null    │\n",
       " └────────────┴────────────────────┴─────────────────┴───────────────┴────────────────────┴─────────┘,\n",
       " (251919, 6))"
      ]
     },
     "execution_count": 2,
     "metadata": {},
     "output_type": "execute_result"
    }
   ],
   "source": [
    "df = pl.read_csv('../data/sra/microbial_fractions.with_ave_genome_size.csv.gz', separator='\\t')\n",
    "df[:3], df.shape"
   ]
  },
  {
   "cell_type": "code",
   "execution_count": 3,
   "metadata": {},
   "outputs": [
    {
     "data": {
      "text/html": [
       "<div><style>\n",
       ".dataframe > thead > tr,\n",
       ".dataframe > tbody > tr {\n",
       "  text-align: right;\n",
       "  white-space: pre-wrap;\n",
       "}\n",
       "</style>\n",
       "<small>shape: (3, 7)</small><table border=\"1\" class=\"dataframe\"><thead><tr><th>sample</th><th>bacterial_archaeal_bases</th><th>metagenome_size</th><th>read_fraction</th><th>average_bacterial_archaeal_genome_size</th><th>warning</th><th>microbial_fraction (%)</th></tr><tr><td>str</td><td>i64</td><td>f64</td><td>str</td><td>i64</td><td>str</td><td>f32</td></tr></thead><tbody><tr><td>&quot;SRR8634435&quot;</td><td>1178752140</td><td>1.2550e9</td><td>&quot;93.92%&quot;</td><td>3419746</td><td>null</td><td>93.919998</td></tr><tr><td>&quot;SRR8640623&quot;</td><td>1418455610</td><td>3.2740e9</td><td>&quot;43.32%&quot;</td><td>1941733</td><td>null</td><td>43.32</td></tr><tr><td>&quot;SRR8692214&quot;</td><td>7569181622</td><td>7.7290e9</td><td>&quot;97.93%&quot;</td><td>3353276</td><td>null</td><td>97.93</td></tr></tbody></table></div>"
      ],
      "text/plain": [
       "shape: (3, 7)\n",
       "┌────────────┬───────────────┬──────────────┬──────────────┬──────────────┬─────────┬──────────────┐\n",
       "│ sample     ┆ bacterial_arc ┆ metagenome_s ┆ read_fractio ┆ average_bact ┆ warning ┆ microbial_fr │\n",
       "│ ---        ┆ haeal_bases   ┆ ize          ┆ n            ┆ erial_archae ┆ ---     ┆ action (%)   │\n",
       "│ str        ┆ ---           ┆ ---          ┆ ---          ┆ al_genom…    ┆ str     ┆ ---          │\n",
       "│            ┆ i64           ┆ f64          ┆ str          ┆ ---          ┆         ┆ f32          │\n",
       "│            ┆               ┆              ┆              ┆ i64          ┆         ┆              │\n",
       "╞════════════╪═══════════════╪══════════════╪══════════════╪══════════════╪═════════╪══════════════╡\n",
       "│ SRR8634435 ┆ 1178752140    ┆ 1.2550e9     ┆ 93.92%       ┆ 3419746      ┆ null    ┆ 93.919998    │\n",
       "│ SRR8640623 ┆ 1418455610    ┆ 3.2740e9     ┆ 43.32%       ┆ 1941733      ┆ null    ┆ 43.32        │\n",
       "│ SRR8692214 ┆ 7569181622    ┆ 7.7290e9     ┆ 97.93%       ┆ 3353276      ┆ null    ┆ 97.93        │\n",
       "└────────────┴───────────────┴──────────────┴──────────────┴──────────────┴─────────┴──────────────┘"
      ]
     },
     "execution_count": 3,
     "metadata": {},
     "output_type": "execute_result"
    }
   ],
   "source": [
    "df = df.with_columns(pl.col('read_fraction').str.replace('%','').cast(pl.Float32).alias('microbial_fraction (%)'))\n",
    "df[:3]"
   ]
  },
  {
   "cell_type": "code",
   "execution_count": 4,
   "metadata": {},
   "outputs": [
    {
     "name": "stdout",
     "output_type": "stream",
     "text": [
      "Found 136284 SRA runs that pass the metadata filtering out of 251919 original\n"
     ]
    }
   ],
   "source": [
    "# Filter rows based on NCBI method metadata\n",
    "# ncbi_method <- read_delim(\"data/sra/NCBI_method_taxonomy_processed.csv.gz\")\n",
    "#   filter(library_strategy == \"WGS\" & library_selection == \"RANDOM\") %>%\n",
    "#   filter(gbp > 0.5) \n",
    "extra_metadata = pl.read_csv('../data/sra/extra_metadata_short.tsv.gz', separator='\\t', null_values=['NA','null'])\n",
    "# print(extra_metadata.shape)\n",
    "# show_all(extra_metadata[:3])\n",
    "extra_metadata = extra_metadata.filter(pl.col('library_strategy') == 'WGS').filter(pl.col('library_selection') == 'RANDOM').filter(pl.col('Gbp') > 0.5)\n",
    "# print(\"Found {} SRA runs that pass the metadata filtering\".format(extra_metadata.shape[0]))\n",
    "original_smf_count = df.shape[0]\n",
    "df = df.join(extra_metadata, left_on='sample', right_on='run', how='inner')\n",
    "print(\"Found {} SRA runs that pass the metadata filtering out of {} original\".format(df.shape[0], original_smf_count))"
   ]
  },
  {
   "cell_type": "code",
   "execution_count": 5,
   "metadata": {},
   "outputs": [],
   "source": [
    "## Commented out to avoid overwriting the file\n",
    "# df.select('sample','bacterial_archaeal_bases','metagenome_size','microbial_fraction (%)','average_bacterial_archaeal_genome_size','warning').write_csv('../data/Supplementary_Data_1.csv')"
   ]
  },
  {
   "cell_type": "markdown",
   "metadata": {},
   "source": [
    "# How many had warnings?"
   ]
  },
  {
   "cell_type": "code",
   "execution_count": 6,
   "metadata": {},
   "outputs": [
    {
     "data": {
      "text/plain": [
       "0.002839658360482522"
      ]
     },
     "execution_count": 6,
     "metadata": {},
     "output_type": "execute_result"
    }
   ],
   "source": [
    "len(df.filter(pl.col('warning').is_not_null())) / len(df)"
   ]
  },
  {
   "cell_type": "markdown",
   "metadata": {},
   "source": [
    "# Gather marine info"
   ]
  },
  {
   "cell_type": "code",
   "execution_count": 8,
   "metadata": {},
   "outputs": [
    {
     "data": {
      "text/plain": [
       "((1306, 17),\n",
       " shape: (3, 17)\n",
       " ┌───────────┬────────────┬────────────┬────────────┬───┬───────────┬───────────┬───────────┬───────┐\n",
       " │ sample    ┆ bacterial_ ┆ metagenome ┆ read_fract ┆ … ┆ lower_bou ┆ upper_bou ┆ size_rang ┆ smf   │\n",
       " │ ---       ┆ archaeal_b ┆ _size      ┆ ion        ┆   ┆ nd        ┆ nd        ┆ e         ┆ ---   │\n",
       " │ str       ┆ ases       ┆ ---        ┆ ---        ┆   ┆ ---       ┆ ---       ┆ ---       ┆ f64   │\n",
       " │           ┆ ---        ┆ f64        ┆ str        ┆   ┆ f64       ┆ f64       ┆ str       ┆       │\n",
       " │           ┆ i64        ┆            ┆            ┆   ┆           ┆           ┆           ┆       │\n",
       " ╞═══════════╪════════════╪════════════╪════════════╪═══╪═══════════╪═══════════╪═══════════╪═══════╡\n",
       " │ ERR598976 ┆ 2804781680 ┆ 3.9094e10  ┆ 71.74%     ┆ … ┆ 0.22      ┆ 3.0       ┆ 0.22-3.0  ┆ 71.74 │\n",
       " │           ┆ 0          ┆            ┆            ┆   ┆           ┆           ┆           ┆       │\n",
       " │ ERR599295 ┆ 713946683  ┆ 2.9695e10  ┆ 2.40%      ┆ … ┆ 5.0       ┆ 20.0      ┆ 5.0-20.0  ┆ 2.4   │\n",
       " │ ERR599069 ┆ 7986370080 ┆ 9.4010e9   ┆ 84.95%     ┆ … ┆ 0.22      ┆ 3.0       ┆ 0.22-3.0  ┆ 84.95 │\n",
       " └───────────┴────────────┴────────────┴────────────┴───┴───────────┴───────────┴───────────┴───────┘)"
      ]
     },
     "execution_count": 8,
     "metadata": {},
     "output_type": "execute_result"
    }
   ],
   "source": [
    "marine_filter_sizes = pl.read_csv('marine/marine_smf_and_filter_sizes.csv')\n",
    "marine_filter_sizes.shape, marine_filter_sizes[:3]"
   ]
  },
  {
   "cell_type": "code",
   "execution_count": 13,
   "metadata": {},
   "outputs": [],
   "source": [
    "df = df.join(\n",
    "marine_filter_sizes.select(\n",
    "    'sample','size_range'\n",
    ").rename({'size_range': 'marine sample filter size range (um)'}), on='sample', how='left')"
   ]
  },
  {
   "cell_type": "markdown",
   "metadata": {},
   "source": [
    "# Gather soil info"
   ]
  },
  {
   "cell_type": "code",
   "execution_count": 14,
   "metadata": {},
   "outputs": [
    {
     "data": {
      "text/html": [
       "<div><style>\n",
       ".dataframe > thead > tr,\n",
       ".dataframe > tbody > tr {\n",
       "  text-align: right;\n",
       "  white-space: pre-wrap;\n",
       "}\n",
       "</style>\n",
       "<small>shape: (136_284, 15)</small><table border=\"1\" class=\"dataframe\"><thead><tr><th>sample</th><th>bacterial_archaeal_bases</th><th>metagenome_size</th><th>read_fraction</th><th>average_bacterial_archaeal_genome_size</th><th>warning</th><th>microbial_fraction (%)</th><th>bioproject</th><th>Gbp</th><th>library_strategy</th><th>library_selection</th><th>model</th><th>sample_name</th><th>taxon_name</th><th>marine sample filter size range (um)</th></tr><tr><td>str</td><td>i64</td><td>f64</td><td>str</td><td>i64</td><td>str</td><td>f32</td><td>str</td><td>f64</td><td>str</td><td>str</td><td>str</td><td>str</td><td>str</td><td>str</td></tr></thead><tbody><tr><td>&quot;SRR8692214&quot;</td><td>7569181622</td><td>7.7290e9</td><td>&quot;97.93%&quot;</td><td>3353276</td><td>null</td><td>97.93</td><td>&quot;PRJNA296814&quot;</td><td>7.73</td><td>&quot;WGS&quot;</td><td>&quot;RANDOM&quot;</td><td>&quot;NextSeq 500&quot;</td><td>&quot;nhbcs_06187001…</td><td>&quot;human gut meta…</td><td>null</td></tr><tr><td>&quot;SRR8675913&quot;</td><td>3552674829</td><td>5.0900e9</td><td>&quot;69.80%&quot;</td><td>4268554</td><td>null</td><td>69.800003</td><td>&quot;PRJNA431482&quot;</td><td>5.091</td><td>&quot;WGS&quot;</td><td>&quot;RANDOM&quot;</td><td>&quot;Illumina HiSeq…</td><td>&quot;N-49&quot;</td><td>&quot;human gut meta…</td><td>null</td></tr><tr><td>&quot;SRR8663617&quot;</td><td>2365776296</td><td>9.2750e9</td><td>&quot;25.51%&quot;</td><td>3973690</td><td>null</td><td>25.51</td><td>&quot;PRJNA525405&quot;</td><td>9.276</td><td>&quot;WGS&quot;</td><td>&quot;RANDOM&quot;</td><td>&quot;NextSeq 500&quot;</td><td>&quot;AP-DNA 1&quot;</td><td>&quot;air metagenome…</td><td>null</td></tr><tr><td>&quot;SRR8675889&quot;</td><td>7309031262</td><td>7.8190e9</td><td>&quot;93.48%&quot;</td><td>4523391</td><td>null</td><td>93.480003</td><td>&quot;PRJNA431482&quot;</td><td>7.82</td><td>&quot;WGS&quot;</td><td>&quot;RANDOM&quot;</td><td>&quot;Illumina HiSeq…</td><td>&quot;N-22&quot;</td><td>&quot;human gut meta…</td><td>null</td></tr><tr><td>&quot;SRR8609101&quot;</td><td>3264659414</td><td>4.5660e9</td><td>&quot;71.50%&quot;</td><td>3823592</td><td>null</td><td>71.5</td><td>&quot;PRJNA523806&quot;</td><td>4.567</td><td>&quot;WGS&quot;</td><td>&quot;RANDOM&quot;</td><td>&quot;NextSeq 500&quot;</td><td>&quot;contr_1_sra&quot;</td><td>&quot;mouse gut meta…</td><td>null</td></tr><tr><td>&hellip;</td><td>&hellip;</td><td>&hellip;</td><td>&hellip;</td><td>&hellip;</td><td>&hellip;</td><td>&hellip;</td><td>&hellip;</td><td>&hellip;</td><td>&hellip;</td><td>&hellip;</td><td>&hellip;</td><td>&hellip;</td><td>&hellip;</td><td>&hellip;</td></tr><tr><td>&quot;SRR9924787&quot;</td><td>11597333858</td><td>1.4346e10</td><td>&quot;80.84%&quot;</td><td>2145981</td><td>null</td><td>80.839996</td><td>&quot;PRJNA559231&quot;</td><td>14.347</td><td>&quot;WGS&quot;</td><td>&quot;RANDOM&quot;</td><td>&quot;Illumina HiSeq…</td><td>&quot;6XLD_WA&quot;</td><td>&quot;freshwater met…</td><td>null</td></tr><tr><td>&quot;SRR9965713&quot;</td><td>285791506</td><td>1.1810e9</td><td>&quot;24.20%&quot;</td><td>2693097</td><td>null</td><td>24.200001</td><td>&quot;PRJNA558989&quot;</td><td>1.181</td><td>&quot;WGS&quot;</td><td>&quot;RANDOM&quot;</td><td>&quot;Illumina HiSeq…</td><td>&quot;mWGS_124&quot;</td><td>&quot;human skin met…</td><td>null</td></tr><tr><td>&quot;SRR9943783&quot;</td><td>1674393030</td><td>2.8900e9</td><td>&quot;57.94%&quot;</td><td>3056131</td><td>null</td><td>57.939999</td><td>&quot;PRJNA559605&quot;</td><td>2.891</td><td>&quot;WGS&quot;</td><td>&quot;RANDOM&quot;</td><td>&quot;NextSeq 500&quot;</td><td>&quot;LP7-M&quot;</td><td>&quot;metagenome&quot;</td><td>null</td></tr><tr><td>&quot;SRR9948921&quot;</td><td>4472338018</td><td>5.6920e9</td><td>&quot;78.57%&quot;</td><td>5028432</td><td>null</td><td>78.57</td><td>&quot;PRJNA555798&quot;</td><td>5.693</td><td>&quot;WGS&quot;</td><td>&quot;RANDOM&quot;</td><td>&quot;Illumina HiSeq…</td><td>&quot;Biofilm-B16&quot;</td><td>&quot;biofilm metage…</td><td>null</td></tr><tr><td>&quot;SRR9967738&quot;</td><td>280638181</td><td>3.5400e9</td><td>&quot;7.93%&quot;</td><td>2296736</td><td>null</td><td>7.93</td><td>&quot;PRJNA560243&quot;</td><td>3.54</td><td>&quot;WGS&quot;</td><td>&quot;RANDOM&quot;</td><td>&quot;NextSeq 500&quot;</td><td>&quot;s068-L001&quot;</td><td>&quot;metagenome&quot;</td><td>null</td></tr></tbody></table></div>"
      ],
      "text/plain": [
       "shape: (136_284, 15)\n",
       "┌───────────┬───────────┬───────────┬───────────┬───┬───────────┬───────────┬───────────┬──────────┐\n",
       "│ sample    ┆ bacterial ┆ metagenom ┆ read_frac ┆ … ┆ model     ┆ sample_na ┆ taxon_nam ┆ marine   │\n",
       "│ ---       ┆ _archaeal ┆ e_size    ┆ tion      ┆   ┆ ---       ┆ me        ┆ e         ┆ sample   │\n",
       "│ str       ┆ _bases    ┆ ---       ┆ ---       ┆   ┆ str       ┆ ---       ┆ ---       ┆ filter   │\n",
       "│           ┆ ---       ┆ f64       ┆ str       ┆   ┆           ┆ str       ┆ str       ┆ size     │\n",
       "│           ┆ i64       ┆           ┆           ┆   ┆           ┆           ┆           ┆ range …  │\n",
       "│           ┆           ┆           ┆           ┆   ┆           ┆           ┆           ┆ ---      │\n",
       "│           ┆           ┆           ┆           ┆   ┆           ┆           ┆           ┆ str      │\n",
       "╞═══════════╪═══════════╪═══════════╪═══════════╪═══╪═══════════╪═══════════╪═══════════╪══════════╡\n",
       "│ SRR869221 ┆ 756918162 ┆ 7.7290e9  ┆ 97.93%    ┆ … ┆ NextSeq   ┆ nhbcs_061 ┆ human gut ┆ null     │\n",
       "│ 4         ┆ 2         ┆           ┆           ┆   ┆ 500       ┆ 870016293 ┆ metagenom ┆          │\n",
       "│           ┆           ┆           ┆           ┆   ┆           ┆ 5357      ┆ e         ┆          │\n",
       "│ SRR867591 ┆ 355267482 ┆ 5.0900e9  ┆ 69.80%    ┆ … ┆ Illumina  ┆ N-49      ┆ human gut ┆ null     │\n",
       "│ 3         ┆ 9         ┆           ┆           ┆   ┆ HiSeq     ┆           ┆ metagenom ┆          │\n",
       "│           ┆           ┆           ┆           ┆   ┆ 4000      ┆           ┆ e         ┆          │\n",
       "│ SRR866361 ┆ 236577629 ┆ 9.2750e9  ┆ 25.51%    ┆ … ┆ NextSeq   ┆ AP-DNA 1  ┆ air metag ┆ null     │\n",
       "│ 7         ┆ 6         ┆           ┆           ┆   ┆ 500       ┆           ┆ enome     ┆          │\n",
       "│ SRR867588 ┆ 730903126 ┆ 7.8190e9  ┆ 93.48%    ┆ … ┆ Illumina  ┆ N-22      ┆ human gut ┆ null     │\n",
       "│ 9         ┆ 2         ┆           ┆           ┆   ┆ HiSeq     ┆           ┆ metagenom ┆          │\n",
       "│           ┆           ┆           ┆           ┆   ┆ 4000      ┆           ┆ e         ┆          │\n",
       "│ SRR860910 ┆ 326465941 ┆ 4.5660e9  ┆ 71.50%    ┆ … ┆ NextSeq   ┆ contr_1_s ┆ mouse gut ┆ null     │\n",
       "│ 1         ┆ 4         ┆           ┆           ┆   ┆ 500       ┆ ra        ┆ metagenom ┆          │\n",
       "│           ┆           ┆           ┆           ┆   ┆           ┆           ┆ e         ┆          │\n",
       "│ …         ┆ …         ┆ …         ┆ …         ┆ … ┆ …         ┆ …         ┆ …         ┆ …        │\n",
       "│ SRR992478 ┆ 115973338 ┆ 1.4346e10 ┆ 80.84%    ┆ … ┆ Illumina  ┆ 6XLD_WA   ┆ freshwate ┆ null     │\n",
       "│ 7         ┆ 58        ┆           ┆           ┆   ┆ HiSeq     ┆           ┆ r metagen ┆          │\n",
       "│           ┆           ┆           ┆           ┆   ┆ 4000      ┆           ┆ ome       ┆          │\n",
       "│ SRR996571 ┆ 285791506 ┆ 1.1810e9  ┆ 24.20%    ┆ … ┆ Illumina  ┆ mWGS_124  ┆ human     ┆ null     │\n",
       "│ 3         ┆           ┆           ┆           ┆   ┆ HiSeq     ┆           ┆ skin meta ┆          │\n",
       "│           ┆           ┆           ┆           ┆   ┆ 2500      ┆           ┆ genome    ┆          │\n",
       "│ SRR994378 ┆ 167439303 ┆ 2.8900e9  ┆ 57.94%    ┆ … ┆ NextSeq   ┆ LP7-M     ┆ metagenom ┆ null     │\n",
       "│ 3         ┆ 0         ┆           ┆           ┆   ┆ 500       ┆           ┆ e         ┆          │\n",
       "│ SRR994892 ┆ 447233801 ┆ 5.6920e9  ┆ 78.57%    ┆ … ┆ Illumina  ┆ Biofilm-B ┆ biofilm   ┆ null     │\n",
       "│ 1         ┆ 8         ┆           ┆           ┆   ┆ HiSeq     ┆ 16        ┆ metagenom ┆          │\n",
       "│           ┆           ┆           ┆           ┆   ┆ 2500      ┆           ┆ e         ┆          │\n",
       "│ SRR996773 ┆ 280638181 ┆ 3.5400e9  ┆ 7.93%     ┆ … ┆ NextSeq   ┆ s068-L001 ┆ metagenom ┆ null     │\n",
       "│ 8         ┆           ┆           ┆           ┆   ┆ 500       ┆           ┆ e         ┆          │\n",
       "└───────────┴───────────┴───────────┴───────────┴───┴───────────┴───────────┴───────────┴──────────┘"
      ]
     },
     "execution_count": 14,
     "metadata": {},
     "output_type": "execute_result"
    }
   ],
   "source": []
  }
 ],
 "metadata": {
  "kernelspec": {
   "display_name": "mybase",
   "language": "python",
   "name": "python3"
  },
  "language_info": {
   "codemirror_mode": {
    "name": "ipython",
    "version": 3
   },
   "file_extension": ".py",
   "mimetype": "text/x-python",
   "name": "python",
   "nbconvert_exporter": "python",
   "pygments_lexer": "ipython3",
   "version": "3.11.3"
  }
 },
 "nbformat": 4,
 "nbformat_minor": 2
}
