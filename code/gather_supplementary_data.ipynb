{
 "cells": [
  {
   "cell_type": "code",
   "execution_count": 2,
   "metadata": {},
   "outputs": [],
   "source": [
    "import polars as pl"
   ]
  },
  {
   "cell_type": "code",
   "execution_count": 3,
   "metadata": {},
   "outputs": [
    {
     "data": {
      "text/plain": [
       "(shape: (3, 6)\n",
       " ┌────────────┬────────────────────┬─────────────────┬───────────────┬────────────────────┬─────────┐\n",
       " │ sample     ┆ bacterial_archaeal ┆ metagenome_size ┆ read_fraction ┆ average_bacterial_ ┆ warning │\n",
       " │ ---        ┆ _bases             ┆ ---             ┆ ---           ┆ archaeal_genom…    ┆ ---     │\n",
       " │ str        ┆ ---                ┆ f64             ┆ str           ┆ ---                ┆ str     │\n",
       " │            ┆ i64                ┆                 ┆               ┆ i64                ┆         │\n",
       " ╞════════════╪════════════════════╪═════════════════╪═══════════════╪════════════════════╪═════════╡\n",
       " │ SRR8634435 ┆ 1178752140         ┆ 1.2550e9        ┆ 93.92%        ┆ 3419746            ┆ null    │\n",
       " │ SRR8640623 ┆ 1418455610         ┆ 3.2740e9        ┆ 43.32%        ┆ 1941733            ┆ null    │\n",
       " │ SRR8692214 ┆ 7569181622         ┆ 7.7290e9        ┆ 97.93%        ┆ 3353276            ┆ null    │\n",
       " └────────────┴────────────────────┴─────────────────┴───────────────┴────────────────────┴─────────┘,\n",
       " (251919, 6))"
      ]
     },
     "execution_count": 3,
     "metadata": {},
     "output_type": "execute_result"
    }
   ],
   "source": [
    "df = pl.read_csv('../data/sra/microbial_fractions.with_ave_genome_size.csv.gz', separator='\\t')\n",
    "df[:3], df.shape"
   ]
  },
  {
   "cell_type": "code",
   "execution_count": 4,
   "metadata": {},
   "outputs": [
    {
     "data": {
      "text/html": [
       "<div><style>\n",
       ".dataframe > thead > tr,\n",
       ".dataframe > tbody > tr {\n",
       "  text-align: right;\n",
       "  white-space: pre-wrap;\n",
       "}\n",
       "</style>\n",
       "<small>shape: (3, 7)</small><table border=\"1\" class=\"dataframe\"><thead><tr><th>sample</th><th>bacterial_archaeal_bases</th><th>metagenome_size</th><th>read_fraction</th><th>average_bacterial_archaeal_genome_size</th><th>warning</th><th>microbial_fraction (%)</th></tr><tr><td>str</td><td>i64</td><td>f64</td><td>str</td><td>i64</td><td>str</td><td>f32</td></tr></thead><tbody><tr><td>&quot;SRR8634435&quot;</td><td>1178752140</td><td>1.2550e9</td><td>&quot;93.92%&quot;</td><td>3419746</td><td>null</td><td>93.919998</td></tr><tr><td>&quot;SRR8640623&quot;</td><td>1418455610</td><td>3.2740e9</td><td>&quot;43.32%&quot;</td><td>1941733</td><td>null</td><td>43.32</td></tr><tr><td>&quot;SRR8692214&quot;</td><td>7569181622</td><td>7.7290e9</td><td>&quot;97.93%&quot;</td><td>3353276</td><td>null</td><td>97.93</td></tr></tbody></table></div>"
      ],
      "text/plain": [
       "shape: (3, 7)\n",
       "┌────────────┬───────────────┬──────────────┬──────────────┬──────────────┬─────────┬──────────────┐\n",
       "│ sample     ┆ bacterial_arc ┆ metagenome_s ┆ read_fractio ┆ average_bact ┆ warning ┆ microbial_fr │\n",
       "│ ---        ┆ haeal_bases   ┆ ize          ┆ n            ┆ erial_archae ┆ ---     ┆ action (%)   │\n",
       "│ str        ┆ ---           ┆ ---          ┆ ---          ┆ al_genom…    ┆ str     ┆ ---          │\n",
       "│            ┆ i64           ┆ f64          ┆ str          ┆ ---          ┆         ┆ f32          │\n",
       "│            ┆               ┆              ┆              ┆ i64          ┆         ┆              │\n",
       "╞════════════╪═══════════════╪══════════════╪══════════════╪══════════════╪═════════╪══════════════╡\n",
       "│ SRR8634435 ┆ 1178752140    ┆ 1.2550e9     ┆ 93.92%       ┆ 3419746      ┆ null    ┆ 93.919998    │\n",
       "│ SRR8640623 ┆ 1418455610    ┆ 3.2740e9     ┆ 43.32%       ┆ 1941733      ┆ null    ┆ 43.32        │\n",
       "│ SRR8692214 ┆ 7569181622    ┆ 7.7290e9     ┆ 97.93%       ┆ 3353276      ┆ null    ┆ 97.93        │\n",
       "└────────────┴───────────────┴──────────────┴──────────────┴──────────────┴─────────┴──────────────┘"
      ]
     },
     "execution_count": 4,
     "metadata": {},
     "output_type": "execute_result"
    }
   ],
   "source": [
    "df = df.with_columns(pl.col('read_fraction').str.replace('%','').cast(pl.Float32).alias('microbial_fraction (%)'))\n",
    "df[:3]"
   ]
  },
  {
   "cell_type": "code",
   "execution_count": 5,
   "metadata": {},
   "outputs": [
    {
     "name": "stdout",
     "output_type": "stream",
     "text": [
      "Found 136284 SRA runs that pass the metadata filtering out of 251919 original\n"
     ]
    }
   ],
   "source": [
    "# Filter rows based on NCBI method metadata\n",
    "# ncbi_method <- read_delim(\"data/sra/NCBI_method_taxonomy_processed.csv.gz\")\n",
    "#   filter(library_strategy == \"WGS\" & library_selection == \"RANDOM\") %>%\n",
    "#   filter(gbp > 0.5) \n",
    "extra_metadata = pl.read_csv('../data/sra/extra_metadata_short.tsv.gz', separator='\\t', null_values=['NA','null'])\n",
    "# print(extra_metadata.shape)\n",
    "# show_all(extra_metadata[:3])\n",
    "extra_metadata = extra_metadata.filter(pl.col('library_strategy') == 'WGS').filter(pl.col('library_selection') == 'RANDOM').filter(pl.col('Gbp') > 0.5)\n",
    "# print(\"Found {} SRA runs that pass the metadata filtering\".format(extra_metadata.shape[0]))\n",
    "original_smf_count = df.shape[0]\n",
    "df = df.join(extra_metadata, left_on='sample', right_on='run', how='inner')\n",
    "print(\"Found {} SRA runs that pass the metadata filtering out of {} original\".format(df.shape[0], original_smf_count))"
   ]
  },
  {
   "cell_type": "code",
   "execution_count": 6,
   "metadata": {},
   "outputs": [],
   "source": [
    "## Commented out to avoid overwriting the file\n",
    "# df.select('sample','bacterial_archaeal_bases','metagenome_size','microbial_fraction (%)','average_bacterial_archaeal_genome_size','warning').write_csv('../data/Supplementary_Data_1.csv')"
   ]
  },
  {
   "cell_type": "markdown",
   "metadata": {},
   "source": [
    "# How many had warnings?"
   ]
  },
  {
   "cell_type": "code",
   "execution_count": 9,
   "metadata": {},
   "outputs": [
    {
     "data": {
      "text/plain": [
       "0.002839658360482522"
      ]
     },
     "execution_count": 9,
     "metadata": {},
     "output_type": "execute_result"
    }
   ],
   "source": [
    "len(df.filter(pl.col('warning').is_not_null())) / len(df)"
   ]
  }
 ],
 "metadata": {
  "kernelspec": {
   "display_name": "mybase",
   "language": "python",
   "name": "python3"
  },
  "language_info": {
   "codemirror_mode": {
    "name": "ipython",
    "version": 3
   },
   "file_extension": ".py",
   "mimetype": "text/x-python",
   "name": "python",
   "nbconvert_exporter": "python",
   "pygments_lexer": "ipython3",
   "version": "3.11.0"
  }
 },
 "nbformat": 4,
 "nbformat_minor": 2
}
